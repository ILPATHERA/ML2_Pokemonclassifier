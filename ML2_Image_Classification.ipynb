{
  "nbformat": 4,
  "nbformat_minor": 0,
  "metadata": {
    "colab": {
      "provenance": [],
      "authorship_tag": "ABX9TyNOvLfwsj6yCSnjFJsxRlv+",
      "include_colab_link": true
    },
    "kernelspec": {
      "name": "python3",
      "display_name": "Python 3"
    },
    "language_info": {
      "name": "python"
    }
  },
  "cells": [
    {
      "cell_type": "markdown",
      "metadata": {
        "id": "view-in-github",
        "colab_type": "text"
      },
      "source": [
        "<a href=\"https://colab.research.google.com/github/ILPATHERA/ML2_Pokemoncreator/blob/main/ML2_Image_Classification.ipynb\" target=\"_parent\"><img src=\"https://colab.research.google.com/assets/colab-badge.svg\" alt=\"Open In Colab\"/></a>"
      ]
    },
    {
      "cell_type": "markdown",
      "source": [
        "# My Machine Learning 2 Image Classification Model"
      ],
      "metadata": {
        "id": "TGwpQwI0JKzp"
      }
    },
    {
      "cell_type": "markdown",
      "source": [
        "### Import Libraries"
      ],
      "metadata": {
        "id": "S-YHlZVkJb6m"
      }
    },
    {
      "cell_type": "code",
      "source": [
        "import pandas as pd"
      ],
      "metadata": {
        "id": "82YZ8RT6Jl_W"
      },
      "execution_count": null,
      "outputs": []
    },
    {
      "cell_type": "markdown",
      "source": [
        "### Load Data"
      ],
      "metadata": {
        "id": "QfdpMV14JWkK"
      }
    },
    {
      "cell_type": "code",
      "source": [
        "data = https://www.kaggle.com/datasets/vishalsubbiah/pokemon-images-and-types"
      ],
      "metadata": {
        "id": "n-gh6y7OJVGW"
      },
      "execution_count": null,
      "outputs": []
    },
    {
      "cell_type": "code",
      "source": [],
      "metadata": {
        "id": "jcv1w84sMfUN"
      },
      "execution_count": null,
      "outputs": []
    },
    {
      "cell_type": "markdown",
      "source": [
        "### Transforming the Data"
      ],
      "metadata": {
        "id": "aTslYoOcJhy_"
      }
    },
    {
      "cell_type": "markdown",
      "source": [
        "### Creating Custom Dataset and DataLoading"
      ],
      "metadata": {
        "id": "oemxhx4OJu8C"
      }
    },
    {
      "cell_type": "code",
      "source": [
        "train_data_path = \"/kaggle/input/image-classification-screening/train\"\n",
        "test_data_path = \"/kaggle/input/image-classification-screening/test\"\n",
        "\n",
        "\n",
        "train_img_paths = []\n",
        "\n",
        "for data_path in glob.glob(train_data_path+'/*'):\n",
        "    #print(data_path)\n",
        "    train_img_paths.append(glob.glob(data_path))\n",
        "    \n",
        "train_img_paths = [x[0] for x in train_img_paths]\n",
        "random.shuffle(train_img_paths)\n",
        "\n",
        "train_img_paths , valid_img_paths = train_img_paths[:int(0.8* len(train_img_paths))], train_img_paths[int(0.8*len(train_img_paths)):]\n",
        "\n",
        "\n",
        "test_img_paths = []\n",
        "for data_path in glob.glob(test_data_path + '/*'):\n",
        "    test_img_paths.append(glob.glob(data_path))\n",
        "\n",
        "test_img_paths = [x[0] for x in test_img_paths]\n",
        "print(\"Train size: {}\\nValid size: {}\\nTest size: {}\".format(len(train_img_paths), len(valid_img_paths), len(test_img_paths)))"
      ],
      "metadata": {
        "id": "KZ2EkhnnJ1pR"
      },
      "execution_count": null,
      "outputs": []
    },
    {
      "cell_type": "markdown",
      "source": [
        "### Visualizing Results\n",
        "\n",
        "\n",
        "\n"
      ],
      "metadata": {
        "id": "I0OLEaj3J7eE"
      }
    },
    {
      "cell_type": "markdown",
      "source": [
        "## Model"
      ],
      "metadata": {
        "id": "YnKABOO6J_aD"
      }
    },
    {
      "cell_type": "markdown",
      "source": [
        "### Defining Layers"
      ],
      "metadata": {
        "id": "hakBOhz9KBEm"
      }
    },
    {
      "cell_type": "markdown",
      "source": [
        "### Training"
      ],
      "metadata": {
        "id": "MAY-eBWbKcGi"
      }
    }
  ]
}